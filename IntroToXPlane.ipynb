{
 "cells": [
  {
   "cell_type": "markdown",
   "metadata": {
    "id": "upv7V2UyIqrn"
   },
   "source": [
    "# Introduction to X-Plane 11 \n",
    "\n",
    "In this notebook, we will introduce you to [X-Plane 11](https://www.x-plane.com/). X-Plane 11 is a flight simulator that can simulate all sorts different aircraft, scenery, takeoffs, landings, and many more aspects of flight. You will be using X-Plane 11 for your project to simulate an aircraft taxiing down a runway, so let's get familiar with it!"
   ]
  },
  {
   "cell_type": "markdown",
   "metadata": {
    "id": "njcxW0mJIqrv"
   },
   "source": [
    "## Playing around with X-Plane 11\n",
    "\n",
    "First, let's just play around a bit with X-Plane 11 to check out some of its features. To do this, follow these steps:\n",
    "\n",
    "1. **Open X-Plane 11.** Look for the X-Plane 11 icon in the dock at the bottom of your screen. Click this icon and X-Plane 11 will open. A window may pop up saying that there is an update available. If this happens, you can just click \"ignore\".\n",
    "2. **Click the \"Flight School\" button.** This should bring up a window with different tutorials. Feel free to try out any of them. I recommend starting with the X-Plane basics tutorial, but feel free to give any of them a try!\n",
    "\n",
    "If you're anything like me, you may have crashed a few times :). If so, not to worry! This is one of the reasons that simulators are so wonderful. They allow us to work out any bugs or issues before trying everything out on the real thing! "
   ]
  },
  {
   "cell_type": "markdown",
   "metadata": {
    "id": "UC3xYWYkIqrw"
   },
   "source": [
    "## Connecting to X-Plane 11 using Python\n",
    "\n",
    "Most people use X-Plane 11 in the way you just did (controlling the aircraft with your mouse and keyboard sort of like playing a video game). However, for your project, we want to make the aircraft taxi down the runway on its own without us having to intervene. To do this, we will sort of \"hack\" X-Plane 11 to be controlled using python. NASA has written a nice plugin for us to do this called X-Plane Connect. Let's give it a try!\n",
    "\n",
    "1. From the main menu of X-Plane 11, click \"New Flight\". This should bring up a window with some flight configuration options.\n",
    "2. In the AIRCRAFT section, select the Cessna Skyhawk.\n",
    "3. In the location section, select Grant Co Intl (ID is KMWH).\n",
    "4. You can leave the weather as clear.\n",
    "5. In the TIME OF DAY section, select a time between 8AM and 10AM local.\n",
    "6. Click the \"Start Flight\" button at the bottom right of the screen. It may take a minute or so to load the flight. Once it loads, you should see the front of the aircraft pointing down a runway. We are now ready to start controlling it!\n"
   ]
  },
  {
   "cell_type": "markdown",
   "metadata": {
    "id": "V30gGMt7Iqrx"
   },
   "source": [
    "First, run the following cell to import all the python functions we need to interface with X-Plane 11:"
   ]
  },
  {
   "cell_type": "code",
   "execution_count": 29,
   "metadata": {
    "colab": {
     "base_uri": "https://localhost:8080/",
     "height": 322
    },
    "executionInfo": {
     "elapsed": 197,
     "status": "error",
     "timestamp": 1656398156251,
     "user": {
      "displayName": "Roya Fallah Firoozi",
      "userId": "01483298096697233866"
     },
     "user_tz": 420
    },
    "id": "Gcb80TdjIqry",
    "jupyter": {
     "source_hidden": true
    },
    "outputId": "dfae31ad-1dcf-4f1b-ff52-361f868585fe",
    "tags": []
   },
   "outputs": [],
   "source": [
    "from xpc3 import *\n",
    "from xpc3_helper import *"
   ]
  },
  {
   "cell_type": "markdown",
   "metadata": {
    "id": "yO3KHgyJIqr0"
   },
   "source": [
    "Next, we need to connect to X-Plane 11 by creating a client that we can use to interface with the simulator:"
   ]
  },
  {
   "cell_type": "code",
   "execution_count": 30,
   "metadata": {
    "id": "afSwftwWIqr1"
   },
   "outputs": [],
   "source": [
    "client = XPlaneConnect()"
   ]
  },
  {
   "cell_type": "markdown",
   "metadata": {
    "id": "H-ntxqbiIqr3"
   },
   "source": [
    "Now, we can start controlling the aircraft with python commands! Let's start by calling the reset command. This resets to aircraft to the start of the runway traveling at 5 m/s. However, the simulation will be paused, so the aircraft will not be moving forward yet."
   ]
  },
  {
   "cell_type": "code",
   "execution_count": 31,
   "metadata": {
    "id": "g6QtWAoEIqr4"
   },
   "outputs": [
    {
     "ename": "ConnectionResetError",
     "evalue": "[WinError 10054] An existing connection was forcibly closed by the remote host",
     "output_type": "error",
     "traceback": [
      "\u001b[1;31m---------------------------------------------------------------------------\u001b[0m",
      "\u001b[1;31mConnectionResetError\u001b[0m                      Traceback (most recent call last)",
      "Input \u001b[1;32mIn [31]\u001b[0m, in \u001b[0;36m<cell line: 1>\u001b[1;34m()\u001b[0m\n\u001b[1;32m----> 1\u001b[0m \u001b[43mreset\u001b[49m\u001b[43m(\u001b[49m\u001b[43mclient\u001b[49m\u001b[43m)\u001b[49m\n",
      "File \u001b[1;32m~\\Documents\\AI4All_requirements\\notebooks\\xpc3_helper.py:219\u001b[0m, in \u001b[0;36mreset\u001b[1;34m(client, cteInit, heInit, dtpInit, noBrake)\u001b[0m\n\u001b[0;32m    216\u001b[0m client\u001b[38;5;241m.\u001b[39msendPOSI([\u001b[38;5;241m47.196890\u001b[39m, \u001b[38;5;241m-\u001b[39m\u001b[38;5;241m119.33260\u001b[39m, \u001b[38;5;241m362.14444\u001b[39m, \u001b[38;5;241m0.31789625\u001b[39m, \u001b[38;5;241m0.10021035\u001b[39m, \u001b[38;5;241m53.7\u001b[39m, \u001b[38;5;241m1\u001b[39m], \u001b[38;5;241m0\u001b[39m)\n\u001b[0;32m    217\u001b[0m \u001b[38;5;66;03m# Fine-tune position\u001b[39;00m\n\u001b[0;32m    218\u001b[0m \u001b[38;5;66;03m# Setting position with lat/lon gets you within 0.3m. Setting local_x, local_z is more accurate)\u001b[39;00m\n\u001b[1;32m--> 219\u001b[0m \u001b[43msetHomeState\u001b[49m\u001b[43m(\u001b[49m\u001b[43mclient\u001b[49m\u001b[43m,\u001b[49m\u001b[43m \u001b[49m\u001b[43mcteInit\u001b[49m\u001b[43m,\u001b[49m\u001b[43m \u001b[49m\u001b[43mdtpInit\u001b[49m\u001b[43m,\u001b[49m\u001b[43m \u001b[49m\u001b[43mheInit\u001b[49m\u001b[43m)\u001b[49m\n\u001b[0;32m    221\u001b[0m \u001b[38;5;66;03m# Fix the plane if you \"crashed\" or broke something\u001b[39;00m\n\u001b[0;32m    222\u001b[0m client\u001b[38;5;241m.\u001b[39msendDREFs([\u001b[38;5;124m\"\u001b[39m\u001b[38;5;124msim/operation/fix_all_systems\u001b[39m\u001b[38;5;124m\"\u001b[39m], [\u001b[38;5;241m1\u001b[39m])\n",
      "File \u001b[1;32m~\\Documents\\AI4All_requirements\\notebooks\\xpc3_helper.py:158\u001b[0m, in \u001b[0;36msetHomeState\u001b[1;34m(client, x, y, theta)\u001b[0m\n\u001b[0;32m    155\u001b[0m \u001b[38;5;66;03m# Place perfectly on the ground\u001b[39;00m\n\u001b[0;32m    156\u001b[0m \u001b[38;5;66;03m# Pause for a bit for it to move\u001b[39;00m\n\u001b[0;32m    157\u001b[0m time\u001b[38;5;241m.\u001b[39msleep(\u001b[38;5;241m0.02\u001b[39m)\n\u001b[1;32m--> 158\u001b[0m curr_agly \u001b[38;5;241m=\u001b[39m \u001b[43mclient\u001b[49m\u001b[38;5;241;43m.\u001b[39;49m\u001b[43mgetDREF\u001b[49m\u001b[43m(\u001b[49m\u001b[38;5;124;43m\"\u001b[39;49m\u001b[38;5;124;43msim/flightmodel/position/y_agl\u001b[39;49m\u001b[38;5;124;43m\"\u001b[39;49m\u001b[43m)\u001b[49m[\u001b[38;5;241m0\u001b[39m]\n\u001b[0;32m    159\u001b[0m curr_localy \u001b[38;5;241m=\u001b[39m client\u001b[38;5;241m.\u001b[39mgetDREF(\u001b[38;5;124m\"\u001b[39m\u001b[38;5;124msim/flightmodel/position/local_y\u001b[39m\u001b[38;5;124m\"\u001b[39m)[\u001b[38;5;241m0\u001b[39m]\n\u001b[0;32m    160\u001b[0m client\u001b[38;5;241m.\u001b[39msendDREF(\u001b[38;5;124m\"\u001b[39m\u001b[38;5;124msim/flightmodel/position/local_y\u001b[39m\u001b[38;5;124m\"\u001b[39m,\n\u001b[0;32m    161\u001b[0m                 curr_localy \u001b[38;5;241m-\u001b[39m curr_agly)\n",
      "File \u001b[1;32m~\\Documents\\AI4All_requirements\\notebooks\\xpc3.py:324\u001b[0m, in \u001b[0;36mXPlaneConnect.getDREF\u001b[1;34m(self, dref)\u001b[0m\n\u001b[0;32m    316\u001b[0m \u001b[38;5;28;01mdef\u001b[39;00m \u001b[38;5;21mgetDREF\u001b[39m(\u001b[38;5;28mself\u001b[39m, dref):\n\u001b[0;32m    317\u001b[0m     \u001b[38;5;124;03m\"\"\"Gets the value of an X-Plane dataref.\u001b[39;00m\n\u001b[0;32m    318\u001b[0m \n\u001b[0;32m    319\u001b[0m \u001b[38;5;124;03m        Args:\u001b[39;00m\n\u001b[1;32m   (...)\u001b[0m\n\u001b[0;32m    322\u001b[0m \u001b[38;5;124;03m        Returns: A sequence of data representing the values of the requested dataref.\u001b[39;00m\n\u001b[0;32m    323\u001b[0m \u001b[38;5;124;03m    \"\"\"\u001b[39;00m\n\u001b[1;32m--> 324\u001b[0m     \u001b[38;5;28;01mreturn\u001b[39;00m \u001b[38;5;28;43mself\u001b[39;49m\u001b[38;5;241;43m.\u001b[39;49m\u001b[43mgetDREFs\u001b[49m\u001b[43m(\u001b[49m\u001b[43m[\u001b[49m\u001b[43mdref\u001b[49m\u001b[43m]\u001b[49m\u001b[43m)\u001b[49m[\u001b[38;5;241m0\u001b[39m]\n",
      "File \u001b[1;32m~\\Documents\\AI4All_requirements\\notebooks\\xpc3.py:343\u001b[0m, in \u001b[0;36mXPlaneConnect.getDREFs\u001b[1;34m(self, drefs)\u001b[0m\n\u001b[0;32m    340\u001b[0m \u001b[38;5;28mself\u001b[39m\u001b[38;5;241m.\u001b[39msendUDP(buffer)\n\u001b[0;32m    342\u001b[0m \u001b[38;5;66;03m# Read and parse response\u001b[39;00m\n\u001b[1;32m--> 343\u001b[0m buffer \u001b[38;5;241m=\u001b[39m \u001b[38;5;28;43mself\u001b[39;49m\u001b[38;5;241;43m.\u001b[39;49m\u001b[43mreadUDP\u001b[49m\u001b[43m(\u001b[49m\u001b[43m)\u001b[49m\n\u001b[0;32m    344\u001b[0m resultCount \u001b[38;5;241m=\u001b[39m struct\u001b[38;5;241m.\u001b[39munpack_from(\u001b[38;5;124mb\u001b[39m\u001b[38;5;124m\"\u001b[39m\u001b[38;5;124mB\u001b[39m\u001b[38;5;124m\"\u001b[39m, buffer, \u001b[38;5;241m5\u001b[39m)[\u001b[38;5;241m0\u001b[39m]\n\u001b[0;32m    345\u001b[0m offset \u001b[38;5;241m=\u001b[39m \u001b[38;5;241m6\u001b[39m\n",
      "File \u001b[1;32m~\\Documents\\AI4All_requirements\\notebooks\\xpc3.py:70\u001b[0m, in \u001b[0;36mXPlaneConnect.readUDP\u001b[1;34m(self)\u001b[0m\n\u001b[0;32m     68\u001b[0m \u001b[38;5;28;01mdef\u001b[39;00m \u001b[38;5;21mreadUDP\u001b[39m(\u001b[38;5;28mself\u001b[39m):\n\u001b[0;32m     69\u001b[0m     \u001b[38;5;124;03m\"\"\"Reads a message from the underlying UDP socket.\"\"\"\u001b[39;00m\n\u001b[1;32m---> 70\u001b[0m     \u001b[38;5;28;01mreturn\u001b[39;00m \u001b[38;5;28;43mself\u001b[39;49m\u001b[38;5;241;43m.\u001b[39;49m\u001b[43msocket\u001b[49m\u001b[38;5;241;43m.\u001b[39;49m\u001b[43mrecv\u001b[49m\u001b[43m(\u001b[49m\u001b[38;5;241;43m16384\u001b[39;49m\u001b[43m)\u001b[49m\n",
      "\u001b[1;31mConnectionResetError\u001b[0m: [WinError 10054] An existing connection was forcibly closed by the remote host"
     ]
    }
   ],
   "source": [
    "reset(client)"
   ]
  },
  {
   "cell_type": "markdown",
   "metadata": {
    "id": "wy20YoYuIqr5"
   },
   "source": [
    "You should have noticed that the aircraft shifted a little bit. Let's unpause the simulation so that we can see the aircraft begin to taxi! You can repause the simulation with the second cell after a few seconds of watching it taxi."
   ]
  },
  {
   "cell_type": "code",
   "execution_count": null,
   "metadata": {
    "id": "QfJ1IiCdIqr6"
   },
   "outputs": [],
   "source": [
    "client.pauseSim(False)"
   ]
  },
  {
   "cell_type": "code",
   "execution_count": null,
   "metadata": {
    "id": "wg_wAAhwIqr7"
   },
   "outputs": [],
   "source": [
    "client.pauseSim(True)"
   ]
  },
  {
   "cell_type": "markdown",
   "metadata": {
    "id": "Vo9i9D9uIqr7"
   },
   "source": [
    "We can control the aircraft by controlling the [rudder](https://www.grc.nasa.gov/www/k-12/airplane/rud.html). The rudder is a hinged section near the rear of the aircraft that is used to turn the nose of the aircraft. The rudder input (fourth argument) should be between -1 and 1. Positive creates a right turn.\n",
    "\n",
    "The next few cells contain the code to send the control and pause/unpause the simulation. Give it a try!"
   ]
  },
  {
   "cell_type": "code",
   "execution_count": null,
   "metadata": {
    "id": "3Vn4HRHUIqr8"
   },
   "outputs": [],
   "source": [
    "sendCTRL(client, 0.0, 0.0, 0.5, 0.0)"
   ]
  },
  {
   "cell_type": "code",
   "execution_count": null,
   "metadata": {
    "id": "VChOkqqyIqr8"
   },
   "outputs": [],
   "source": [
    "client.pauseSim(False)"
   ]
  },
  {
   "cell_type": "code",
   "execution_count": null,
   "metadata": {
    "id": "Dp5hpE9lIqr9"
   },
   "outputs": [],
   "source": [
    "client.pauseSim(True)"
   ]
  },
  {
   "cell_type": "markdown",
   "metadata": {
    "id": "FOS6EyrIIqr-"
   },
   "source": [
    "In addition to controlling the aircraft, we can place it at a specified location on the runway using the state variables we learned about. The runway is 20 meters wide and 2982 meters long."
   ]
  },
  {
   "cell_type": "markdown",
   "metadata": {
    "id": "Ncmh31FZIqr-"
   },
   "source": [
    "First let's reset it to the beginning of the runway:"
   ]
  },
  {
   "cell_type": "code",
   "execution_count": null,
   "metadata": {
    "id": "D-Wy50HPIqr-"
   },
   "outputs": [],
   "source": [
    "reset(client)"
   ]
  },
  {
   "cell_type": "markdown",
   "metadata": {
    "id": "jlmqaweEIqr_"
   },
   "source": [
    "Next, let's place it 5 meters ahead of our current location. Use the `setHomeState(client, x, y, theta)` function.\n",
    "- x is the distance from the centerline in meters (for runway -10 < x < 10, left is positive)\n",
    "- y is the distance down the runway in meters\n",
    "- theta is the angle that the aircraft faces measured from facing straight down the runway"
   ]
  },
  {
   "cell_type": "code",
   "execution_count": null,
   "metadata": {
    "id": "rhhIy9AQIqr_"
   },
   "outputs": [],
   "source": [
    "setHomeState(client, 0.0, 5.0, 0.0)"
   ]
  },
  {
   "cell_type": "markdown",
   "metadata": {
    "id": "rkQfAnBDIqsA"
   },
   "source": [
    "The aircraft should have moved forward 5 meters. Now, let's move it to the left 4 meters:"
   ]
  },
  {
   "cell_type": "code",
   "execution_count": null,
   "metadata": {
    "id": "vMSPS0SoIqsA"
   },
   "outputs": [],
   "source": [
    "setHomeState(client, 4.0, 5.0, 0.0)"
   ]
  },
  {
   "cell_type": "markdown",
   "metadata": {
    "id": "XO1CNqbvIqsA"
   },
   "source": [
    "Rotate it counterclockwise 10 degrees:"
   ]
  },
  {
   "cell_type": "code",
   "execution_count": null,
   "metadata": {
    "id": "VwvJqfvyIqsB"
   },
   "outputs": [],
   "source": [
    "setHomeState(client, 4.0, 5.0, 10.0)"
   ]
  },
  {
   "cell_type": "markdown",
   "metadata": {
    "id": "WOlY7XEQIqsB"
   },
   "source": [
    "Move it to the end of the runway:"
   ]
  },
  {
   "cell_type": "code",
   "execution_count": null,
   "metadata": {
    "id": "4QwgsuV9IqsB"
   },
   "outputs": [],
   "source": [
    "setHomeState(client, 0.0, 2982.0, 0.0)"
   ]
  },
  {
   "cell_type": "markdown",
   "metadata": {
    "id": "yHX-vDxEIqsB"
   },
   "source": [
    "X-Plane Connect provides a way to programmatically edit the [DataRefs](https://developer.x-plane.com/datarefs/) that control the simulation. We can easily get the value of a particular DataRef. For example, let's get the time of day (GMT) in seconds."
   ]
  },
  {
   "cell_type": "code",
   "execution_count": null,
   "metadata": {
    "id": "fZCdn83vIqsC"
   },
   "outputs": [],
   "source": [
    "# Returns a tuple, so index the first entry to get the number back\n",
    "client.getDREF(\"sim/time/zulu_time_sec\")[0]"
   ]
  },
  {
   "cell_type": "markdown",
   "metadata": {
    "id": "yXvF1ctOIqsC"
   },
   "source": [
    "We can also set the value of a DataRef. Let's set the time to 11:00PM local time."
   ]
  },
  {
   "cell_type": "code",
   "execution_count": null,
   "metadata": {
    "id": "PGGiJIwPIqsC"
   },
   "outputs": [],
   "source": [
    "client.sendDREF(\"sim/time/zulu_time_sec\", 23 * 3600 + 8 * 3600)"
   ]
  },
  {
   "cell_type": "markdown",
   "metadata": {
    "id": "Yo4HUMJXIqsC"
   },
   "source": [
    "DataRefs are simulation variables, and there are many many of them controlling everything from weather to aircraft position, speed, orientation, parking break, and more. They are summarized [here](https://developer.x-plane.com/datarefs/). Note that not all DataRefs can be written. Some DataRefs are calculated at each time step as a function of other DataRefs, so writing to them will have no effect because they will just be rewritten at the next time step."
   ]
  }
 ],
 "metadata": {
  "colab": {
   "name": "IntroToXPlane.ipynb",
   "provenance": []
  },
  "interpreter": {
   "hash": "36cf16204b8548560b1c020c4e8fb5b57f0e4c58016f52f2d4be01e192833930"
  },
  "kernelspec": {
   "display_name": "Python 3 (ipykernel)",
   "language": "python",
   "name": "python3"
  },
  "language_info": {
   "codemirror_mode": {
    "name": "ipython",
    "version": 3
   },
   "file_extension": ".py",
   "mimetype": "text/x-python",
   "name": "python",
   "nbconvert_exporter": "python",
   "pygments_lexer": "ipython3",
   "version": "3.9.12"
  }
 },
 "nbformat": 4,
 "nbformat_minor": 4
}
