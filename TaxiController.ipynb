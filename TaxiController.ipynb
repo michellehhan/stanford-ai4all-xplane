{
 "cells": [
  {
   "cell_type": "markdown",
   "metadata": {
    "id": "m9JQMRxGBaay"
   },
   "source": [
    "# X-Plane 11 Aircraft Taxi Controller\n",
    "\n",
    "In this notebook, you will implement a controller for the aircraft taxi problem and observe it in action!"
   ]
  },
  {
   "cell_type": "markdown",
   "metadata": {
    "id": "iMopDBu3BabH"
   },
   "source": [
    "First, let's import some of the python packages we will need:"
   ]
  },
  {
   "cell_type": "code",
   "execution_count": null,
   "metadata": {},
   "outputs": [],
   "source": []
  },
  {
   "cell_type": "code",
   "execution_count": null,
   "metadata": {},
   "outputs": [],
   "source": []
  },
  {
   "cell_type": "code",
   "execution_count": 5,
   "metadata": {
    "id": "rp3MXjyeBabI"
   },
   "outputs": [],
   "source": [
    "import time\n",
    "import numpy as np\n",
    "\n",
    "from xpc3 import *\n",
    "from xpc3_helper import *\n",
    "from plotting_helper import *\n",
    "\n",
    "import ipywidgets as widgets\n",
    "from ipywidgets import interact"
   ]
  },
  {
   "cell_type": "markdown",
   "metadata": {
    "id": "YOV9C3OWBabN"
   },
   "source": [
    "Next, we need to get X-Plane 11 ready to go. We will follow the same steps as we did in the X-Plane 11 tutorial notebook:\n",
    "\n",
    "1. **Open X-Plane 11.** Look for the X-Plane 11 icon in the dock at the bottom of your screen (it should be towards the right). Click this icon and X-Plane 11 will open. A window may pop up saying that there is an update available. If this happens, you can just click \"ignore\".\n",
    "2. From the main menu of X-Plane 11, click \"New Flight\". This should bring up a window with some flight configuration options.\n",
    "3. In the AIRCRAFT section, select the Cessna Skyhawk.\n",
    "4. In the location section, select Grant Co Intl (ID is KMWH).\n",
    "5. You can leave the weather as clear.\n",
    "6. In the TIME OF DAY section, select a time between 8AM and 10AM local.\n",
    "7. Click the \"Start Flight\" button at the bottom right of the screen. It make take a minute or so to load the flight. Once it loads, you should see the front of the aircraft pointing down a runway. We are now ready to start controlling it!\n",
    "\n",
    "Connect to X-Plane 11 by creating a client that we can use to interface with the simulator:"
   ]
  },
  {
   "cell_type": "code",
   "execution_count": 6,
   "metadata": {
    "id": "W2NXdJ2NBabQ"
   },
   "outputs": [
    {
     "ename": "ConnectionResetError",
     "evalue": "[WinError 10054] An existing connection was forcibly closed by the remote host",
     "output_type": "error",
     "traceback": [
      "\u001b[1;31m---------------------------------------------------------------------------\u001b[0m",
      "\u001b[1;31mConnectionResetError\u001b[0m                      Traceback (most recent call last)",
      "Input \u001b[1;32mIn [6]\u001b[0m, in \u001b[0;36m<cell line: 2>\u001b[1;34m()\u001b[0m\n\u001b[0;32m      1\u001b[0m client \u001b[38;5;241m=\u001b[39m XPlaneConnect()\n\u001b[1;32m----> 2\u001b[0m \u001b[43mreset\u001b[49m\u001b[43m(\u001b[49m\u001b[43mclient\u001b[49m\u001b[43m)\u001b[49m\n",
      "File \u001b[1;32m~\\Documents\\AI4All_requirements\\notebooks\\xpc3_helper.py:219\u001b[0m, in \u001b[0;36mreset\u001b[1;34m(client, cteInit, heInit, dtpInit, noBrake)\u001b[0m\n\u001b[0;32m    216\u001b[0m client\u001b[38;5;241m.\u001b[39msendPOSI([\u001b[38;5;241m47.196890\u001b[39m, \u001b[38;5;241m-\u001b[39m\u001b[38;5;241m119.33260\u001b[39m, \u001b[38;5;241m362.14444\u001b[39m, \u001b[38;5;241m0.31789625\u001b[39m, \u001b[38;5;241m0.10021035\u001b[39m, \u001b[38;5;241m53.7\u001b[39m, \u001b[38;5;241m1\u001b[39m], \u001b[38;5;241m0\u001b[39m)\n\u001b[0;32m    217\u001b[0m \u001b[38;5;66;03m# Fine-tune position\u001b[39;00m\n\u001b[0;32m    218\u001b[0m \u001b[38;5;66;03m# Setting position with lat/lon gets you within 0.3m. Setting local_x, local_z is more accurate)\u001b[39;00m\n\u001b[1;32m--> 219\u001b[0m \u001b[43msetHomeState\u001b[49m\u001b[43m(\u001b[49m\u001b[43mclient\u001b[49m\u001b[43m,\u001b[49m\u001b[43m \u001b[49m\u001b[43mcteInit\u001b[49m\u001b[43m,\u001b[49m\u001b[43m \u001b[49m\u001b[43mdtpInit\u001b[49m\u001b[43m,\u001b[49m\u001b[43m \u001b[49m\u001b[43mheInit\u001b[49m\u001b[43m)\u001b[49m\n\u001b[0;32m    221\u001b[0m \u001b[38;5;66;03m# Fix the plane if you \"crashed\" or broke something\u001b[39;00m\n\u001b[0;32m    222\u001b[0m client\u001b[38;5;241m.\u001b[39msendDREFs([\u001b[38;5;124m\"\u001b[39m\u001b[38;5;124msim/operation/fix_all_systems\u001b[39m\u001b[38;5;124m\"\u001b[39m], [\u001b[38;5;241m1\u001b[39m])\n",
      "File \u001b[1;32m~\\Documents\\AI4All_requirements\\notebooks\\xpc3_helper.py:158\u001b[0m, in \u001b[0;36msetHomeState\u001b[1;34m(client, x, y, theta)\u001b[0m\n\u001b[0;32m    155\u001b[0m \u001b[38;5;66;03m# Place perfectly on the ground\u001b[39;00m\n\u001b[0;32m    156\u001b[0m \u001b[38;5;66;03m# Pause for a bit for it to move\u001b[39;00m\n\u001b[0;32m    157\u001b[0m time\u001b[38;5;241m.\u001b[39msleep(\u001b[38;5;241m0.02\u001b[39m)\n\u001b[1;32m--> 158\u001b[0m curr_agly \u001b[38;5;241m=\u001b[39m \u001b[43mclient\u001b[49m\u001b[38;5;241;43m.\u001b[39;49m\u001b[43mgetDREF\u001b[49m\u001b[43m(\u001b[49m\u001b[38;5;124;43m\"\u001b[39;49m\u001b[38;5;124;43msim/flightmodel/position/y_agl\u001b[39;49m\u001b[38;5;124;43m\"\u001b[39;49m\u001b[43m)\u001b[49m[\u001b[38;5;241m0\u001b[39m]\n\u001b[0;32m    159\u001b[0m curr_localy \u001b[38;5;241m=\u001b[39m client\u001b[38;5;241m.\u001b[39mgetDREF(\u001b[38;5;124m\"\u001b[39m\u001b[38;5;124msim/flightmodel/position/local_y\u001b[39m\u001b[38;5;124m\"\u001b[39m)[\u001b[38;5;241m0\u001b[39m]\n\u001b[0;32m    160\u001b[0m client\u001b[38;5;241m.\u001b[39msendDREF(\u001b[38;5;124m\"\u001b[39m\u001b[38;5;124msim/flightmodel/position/local_y\u001b[39m\u001b[38;5;124m\"\u001b[39m,\n\u001b[0;32m    161\u001b[0m                 curr_localy \u001b[38;5;241m-\u001b[39m curr_agly)\n",
      "File \u001b[1;32m~\\Documents\\AI4All_requirements\\notebooks\\xpc3.py:324\u001b[0m, in \u001b[0;36mXPlaneConnect.getDREF\u001b[1;34m(self, dref)\u001b[0m\n\u001b[0;32m    316\u001b[0m \u001b[38;5;28;01mdef\u001b[39;00m \u001b[38;5;21mgetDREF\u001b[39m(\u001b[38;5;28mself\u001b[39m, dref):\n\u001b[0;32m    317\u001b[0m     \u001b[38;5;124;03m\"\"\"Gets the value of an X-Plane dataref.\u001b[39;00m\n\u001b[0;32m    318\u001b[0m \n\u001b[0;32m    319\u001b[0m \u001b[38;5;124;03m        Args:\u001b[39;00m\n\u001b[1;32m   (...)\u001b[0m\n\u001b[0;32m    322\u001b[0m \u001b[38;5;124;03m        Returns: A sequence of data representing the values of the requested dataref.\u001b[39;00m\n\u001b[0;32m    323\u001b[0m \u001b[38;5;124;03m    \"\"\"\u001b[39;00m\n\u001b[1;32m--> 324\u001b[0m     \u001b[38;5;28;01mreturn\u001b[39;00m \u001b[38;5;28;43mself\u001b[39;49m\u001b[38;5;241;43m.\u001b[39;49m\u001b[43mgetDREFs\u001b[49m\u001b[43m(\u001b[49m\u001b[43m[\u001b[49m\u001b[43mdref\u001b[49m\u001b[43m]\u001b[49m\u001b[43m)\u001b[49m[\u001b[38;5;241m0\u001b[39m]\n",
      "File \u001b[1;32m~\\Documents\\AI4All_requirements\\notebooks\\xpc3.py:343\u001b[0m, in \u001b[0;36mXPlaneConnect.getDREFs\u001b[1;34m(self, drefs)\u001b[0m\n\u001b[0;32m    340\u001b[0m \u001b[38;5;28mself\u001b[39m\u001b[38;5;241m.\u001b[39msendUDP(buffer)\n\u001b[0;32m    342\u001b[0m \u001b[38;5;66;03m# Read and parse response\u001b[39;00m\n\u001b[1;32m--> 343\u001b[0m buffer \u001b[38;5;241m=\u001b[39m \u001b[38;5;28;43mself\u001b[39;49m\u001b[38;5;241;43m.\u001b[39;49m\u001b[43mreadUDP\u001b[49m\u001b[43m(\u001b[49m\u001b[43m)\u001b[49m\n\u001b[0;32m    344\u001b[0m resultCount \u001b[38;5;241m=\u001b[39m struct\u001b[38;5;241m.\u001b[39munpack_from(\u001b[38;5;124mb\u001b[39m\u001b[38;5;124m\"\u001b[39m\u001b[38;5;124mB\u001b[39m\u001b[38;5;124m\"\u001b[39m, buffer, \u001b[38;5;241m5\u001b[39m)[\u001b[38;5;241m0\u001b[39m]\n\u001b[0;32m    345\u001b[0m offset \u001b[38;5;241m=\u001b[39m \u001b[38;5;241m6\u001b[39m\n",
      "File \u001b[1;32m~\\Documents\\AI4All_requirements\\notebooks\\xpc3.py:70\u001b[0m, in \u001b[0;36mXPlaneConnect.readUDP\u001b[1;34m(self)\u001b[0m\n\u001b[0;32m     68\u001b[0m \u001b[38;5;28;01mdef\u001b[39;00m \u001b[38;5;21mreadUDP\u001b[39m(\u001b[38;5;28mself\u001b[39m):\n\u001b[0;32m     69\u001b[0m     \u001b[38;5;124;03m\"\"\"Reads a message from the underlying UDP socket.\"\"\"\u001b[39;00m\n\u001b[1;32m---> 70\u001b[0m     \u001b[38;5;28;01mreturn\u001b[39;00m \u001b[38;5;28;43mself\u001b[39;49m\u001b[38;5;241;43m.\u001b[39;49m\u001b[43msocket\u001b[49m\u001b[38;5;241;43m.\u001b[39;49m\u001b[43mrecv\u001b[49m\u001b[43m(\u001b[49m\u001b[38;5;241;43m16384\u001b[39;49m\u001b[43m)\u001b[49m\n",
      "\u001b[1;31mConnectionResetError\u001b[0m: [WinError 10054] An existing connection was forcibly closed by the remote host"
     ]
    }
   ],
   "source": [
    "client = XPlaneConnect()\n",
    "reset(client)"
   ]
  },
  {
   "cell_type": "markdown",
   "metadata": {
    "id": "DBD890ftBabR"
   },
   "source": [
    "## Simulation Functions\n",
    "To simulate our taxi controller, we need to implement a *closed-loop system*. This can be a big task, so let's break it down into smaller ones! At each time step, we want to:\n",
    "\n",
    "1. Get the current state of the system\n",
    "2. Determine our control input using the state (steering angle)\n",
    "3. Feed the current state and control input into the dynamics function to determine the next state\n",
    "4. Go back to step 1!\n",
    "\n",
    "Let's make a separate function for steps 1-3. The function for step 1 returns the current state and has been done for you:"
   ]
  },
  {
   "cell_type": "markdown",
   "metadata": {
    "id": "iOQHvWiCBabT"
   },
   "source": [
    "### 1. Get the current state\n",
    "This one has been done for you and just uses the data from X-Plane 11 to return the current crosstrack and heading error."
   ]
  },
  {
   "cell_type": "code",
   "execution_count": 7,
   "metadata": {
    "id": "1usZtchbBabU"
   },
   "outputs": [],
   "source": [
    "def getState(client):\n",
    "    \"\"\" Returns the true crosstrack error (meters) and\n",
    "        heading error, (degrees) to simulate fully \n",
    "        oberservable control\n",
    "        Args:\n",
    "            client: XPlane Client\n",
    "    \"\"\"\n",
    "    cte, _, he = getHomeState(client)\n",
    "    return cte, he"
   ]
  },
  {
   "cell_type": "markdown",
   "metadata": {
    "id": "GnAA1-PHBabW"
   },
   "source": [
    "### 2. Determine the control input\n",
    "\n",
    "Implement the function below to code up the control law we talked about. Remember, the control law is:\n",
    "\n",
    "    phi = cte_gain * cte + he_gain * he\n",
    "\n",
    "We haven't tuned it yet (we are going to need the rest of our simulator in place to do this!), so for now, let's just set the `cte_gain` and `he_gain` to zero."
   ]
  },
  {
   "cell_type": "code",
   "execution_count": 9,
   "metadata": {
    "id": "M53zqb_yBabY"
   },
   "outputs": [],
   "source": [
    "def getControl(client, cte, he):\n",
    "    \"\"\" Returns steering angle command using proportional control\n",
    "        Args:\n",
    "            client: XPlane Client\n",
    "            cte: current estimate of the crosstrack error, x (meters)\n",
    "            he: current estimate of the heading error, theta (degrees)\n",
    "    \"\"\"\n",
    "    # STUDENT CODE START\n",
    "    cte_gain = 0\n",
    "    he_gain = 0\n",
    "    phi = cte_gain*cte + he_gain*he\n",
    "    \n",
    "    return phi\n",
    "    # STUDENT CODE END"
   ]
  },
  {
   "cell_type": "markdown",
   "metadata": {
    "id": "FL3Mz-K3Babc"
   },
   "source": [
    "### 3. Get the next state\n",
    "Fill in the dynamics function to return the next state. Remember the dynamics equations we found:\n",
    "- he_next = he + phi * dt\n",
    "- cte_next = cte + v * sin(theta) * dt\n",
    "- dtp_next = dtp + v * cos(theta) * dt\n",
    "\n",
    "For sin and cos, you can use the `np.sin` and `np.cos` functions. NOTE: these functions expect the input angle to be in RADIANS. Just like fahrenheit and celsius are different ways of measuring temperature, degrees and radians are different ways to measure angles! And just like we can convert a temperature from fahrenheit to celsius and vice versa, we can convert from degrees to radians and vice versa. Numpy has a nice function to do this for us called `np.deg2rad`. We have created variables for the radians value of the heading error for you (`he_rad`). **TLDR:** use the radians value (`he_rad`) when calling the sin and cos functions :)"
   ]
  },
  {
   "cell_type": "code",
   "execution_count": 23,
   "metadata": {
    "id": "mfoFgnZJBabg"
   },
   "outputs": [],
   "source": [
    "def dynamics(cte, dtp, he, phi_deg, dt=0.05, v=5):\n",
    "    \"\"\" dynamics model (returns next state)\n",
    "        Args:\n",
    "            cte: current crosstrack error (meters)\n",
    "            dtp: current downtrack position (meters)\n",
    "            he: current heading error (degrees)\n",
    "            phi_deg: steering angle input (degrees)\n",
    "            -------------------------------\n",
    "            dt: time step (seconds)\n",
    "            v: speed (m/s)\n",
    "    \"\"\"\n",
    "\n",
    "    he_rad = np.deg2rad(he)\n",
    "\n",
    "    # STUDENT CODE START\n",
    "    he_next = he+phi_deg*dt\n",
    "    cte_next = cte+v*np.sin(he_rad)*dt\n",
    "    dtp_next = dtp+v*np.cos(he_rad)*dt\n",
    "    # STUDENT CODE END\n",
    "\n",
    "    return cte_next, he_next, dtp_next"
   ]
  },
  {
   "cell_type": "markdown",
   "metadata": {
    "id": "FXidQ8ACBabj"
   },
   "source": [
    "### Put it all together!\n",
    "We can now put everything together into a single simulation function. \n",
    "\n",
    "Because we are not using any image data yet, we technically don't need to use X-Plane 11 for this part of the project. One pro of using X-Plane 11 is that it makes our controller look way more realistic and can provide super cool videos for your final presentation :). A drawback of using it though is that it will slow down our simulation, which isn't great if we want to easily try out a lot of control gains when we tune the controller. For this part of the project, we will get the best of both worlds by adding an input to our function that specifies whether or not to move the aircraft along the trajectory in X-Plane 11. By default, this value is set to False (will not use X-Plane 11).\n",
    "\n",
    "We have started by intializing some variables for you. Your job is to fill in the for loop that will simulate the closed-loop system. Here is a rough outline of the steps your code should follow:\n",
    "\n",
    "1. **Store the current crosstrack error, heading error, and downtrack position**. We want to keep track of the trajectory of the aircraft during our simulation so that we can plot it and analyze it after. To do this, we have defined three arrays for you: `cte_history`, `he_history`, and `dtp_history`. To start each loop iteration, you should store the values of these variables at the next slot in the array.\n",
    "2. **Decide if we should update our control**. Most real-world systems operate at a specific frequency, meaning that they only update their control every so often. For our simulation, we will only update our control (steering angle) on certain iterations of the loop controlled by the `ctrl_every` input. The default for this input is 20, so we only want to update our control at iteration 0, 20, 40, 60, 80, etc. What condition can we use to determine this? HINT: check out (python's modulo operator)[https://www.freecodecamp.org/news/the-python-modulo-operator-what-does-the-symbol-mean-in-python-solved/]. Can you come up with a condition using this operator that would only be true when i is a multiple of `ctrl_every`?\n",
    "3. **If we should update our control, update it**. To do this, we need to get the cte and he using the `getState` function and then input those into the `getControl` function to get a new value for `phiDeg`.\n",
    "4. **Get the next state based on the dynamics**. Call your dynamics function with the appropriate inputs.\n",
    "5. **If we are using the simulator, tell the simulator to move to that state**. You can use the function `setHomeState(client, cte, dtp, he)`"
   ]
  },
  {
   "cell_type": "code",
   "execution_count": 24,
   "metadata": {
    "id": "R6G7WbLFBabn"
   },
   "outputs": [],
   "source": [
    "def simulate_controller(client, startCTE, startHE, startDTP, getState, getControl,\n",
    "                        dt=0.05, ctrlEvery=20, nsteps = 400, simSpeed=1.0, useXPlane=False):\n",
    "    \"\"\" Simulates a controller, overriding the built-in XPlane-11 dynamics to model the aircraft\n",
    "        as a Dubin's car\n",
    "        Args:\n",
    "            client: XPlane Client\n",
    "            startCTE: Starting crosstrack error (meters)\n",
    "            startHE: Starting heading error (degrees)\n",
    "            startDTP: Starting downtrack position (meters)\n",
    "            getState: Function to estimate the current crosstrack and heading errors.\n",
    "                      Takes in an XPlane client and returns the crosstrack and\n",
    "                      heading error estimates\n",
    "            getControl: Function to perform control based on the state\n",
    "                        Takes in an XPlane client, the current crosstrack error estimate,\n",
    "                        and the current heading error estimate and returns a control effort\n",
    "            -------------------\n",
    "            dt: time step (seconds)\n",
    "            crtlEvery: Frequency to get new control input \n",
    "                       (e.g. if dt=0.5, a value of 20 for ctrlEvery will perform control \n",
    "                       at a 1 Hz rate)\n",
    "            nsteps: Number of time steps to run the simulation for\n",
    "            simSpeed: increase beyond 1 to speed up simulation\n",
    "            useXPlane: Whether or not to simulate in X-Plane 11 (will slow down the simulation)\n",
    "    \"\"\"\n",
    "    # Reset to the desired starting position\n",
    "    if useXPlane:\n",
    "        client.sendDREF(\"sim/time/sim_speed\", simSpeed)\n",
    "        reset(client, cteInit=startCTE,\n",
    "                        heInit=startHE, dtpInit=startDTP)\n",
    "        sendBrake(client, 0)\n",
    "\n",
    "        time.sleep(5)  # 5 seconds to get terminal window out of the way\n",
    "\n",
    "    # Initialize the crosstrack error, heading error, and downtrack position\n",
    "    cte = startCTE\n",
    "    he = startHE\n",
    "    dtp = startDTP\n",
    "\n",
    "    # Initialize the steering angle to 0 degrees\n",
    "    phiDeg = 0.0 # degrees\n",
    "\n",
    "    # Initialize arrays of zeros to store the results in\n",
    "    cte_history = np.zeros(nsteps)\n",
    "    he_history = np.zeros(nsteps)\n",
    "    dtp_history = np.zeros(nsteps)\n",
    "\n",
    "    # STUDENT CODE START\n",
    "    for i in range(nsteps): # Repeat for nsteps\n",
    "        # Record the current cte, he, and dtp into their corresponding arrays\n",
    "        # FILL IN!\n",
    "        cte_history[i] = cte\n",
    "        he_history[i] = he\n",
    "        dtp_history[i] = dtp\n",
    "        # If we should change our control\n",
    "        # FILL IN THE IF STATEMENT HERE!\n",
    "        if i%ctrlEvery==0:\n",
    "            # Get the current state (we have done this for you)\n",
    "            if useXPlane:\n",
    "                cte_pred, he_pred = getState(client)\n",
    "            else:\n",
    "                cte_pred = cte\n",
    "                he_pred = he\n",
    "            # Use the current state to get the control\n",
    "            # FILL IN!\n",
    "            phiDeg = getControl(client, cte_pred, he_pred)\n",
    "        # Update the cte, he, and dtp using the dynamics function\n",
    "        # FILL IN!\n",
    "        cte, he, dtp = dynamics(cte, dtp, he, phiDeg, dt=0.05, v=5)\n",
    "        # If useXPlane is true\n",
    "        # FILL IN THE IF STATEMENT HERE!\n",
    "        if useXPlane == True:\n",
    "            # Set the simulator to move to the next state\n",
    "            # FILL IN!\n",
    "            setHomeState(client, cte, dtp, he)\n",
    "            # Sleep for 0.03 seconds to give the simulator time to update everything\n",
    "            # FILL IN!\n",
    "            time.sleep(0.03)\n",
    "    # STUDENT CODE END\n",
    "\n",
    "    return cte_history, he_history, dtp_history"
   ]
  },
  {
   "cell_type": "markdown",
   "metadata": {
    "id": "EirPpsGCBabq"
   },
   "source": [
    "## Test your simulation!"
   ]
  },
  {
   "cell_type": "markdown",
   "metadata": {
    "id": "tgBrMDkaBabs"
   },
   "source": [
    "### Specify the settings\n",
    "\n",
    "The cell below defines some settings for the simulator such as the time of day and weather conditions. You can just leave these as is for now."
   ]
  },
  {
   "cell_type": "code",
   "execution_count": 25,
   "metadata": {
    "id": "VRqeD4B_Babt"
   },
   "outputs": [],
   "source": [
    "# Time of day in local time, e.g. 8.0 = 8AM, 17.0 = 5PM\n",
    "TIME_OF_DAY = 8.0\n",
    "\n",
    "# Cloud cover (higher numbers are cloudier/darker)\n",
    "# 0 = Clear, 1 = Cirrus, 2 = Scattered, 3 = Broken, 4 = Overcast\n",
    "CLOUD_COVER = 0\n",
    "\n",
    "# Start downtrack position (322 m is a good starting place)\n",
    "START_DTP = 322.0\n",
    "\n",
    "# Set weather and time of day\n",
    "client.sendDREF(\"sim/time/zulu_time_sec\", TIME_OF_DAY * 3600 + 8 * 3600)\n",
    "client.sendDREF(\"sim/weather/cloud_type[0]\", CLOUD_COVER)"
   ]
  },
  {
   "cell_type": "markdown",
   "metadata": {
    "id": "8rHhkjcoBabv"
   },
   "source": [
    "### Run a single simulation\n",
    "The line below will run a single simulation (with X-Plane 11) and store the results in arrays called `cte_history`, `he_history`, and `dtp_history`. Run this cell now to watch your controller in action! It will pause for 5 seconds and then run for 20 seconds."
   ]
  },
  {
   "cell_type": "code",
   "execution_count": 26,
   "metadata": {
    "id": "qFD9bSUPBabx"
   },
   "outputs": [],
   "source": [
    "cte_history, he_history, dtp_history = simulate_controller(client, 6.0, 10.0, START_DTP, getState, getControl, useXPlane = False)"
   ]
  },
  {
   "cell_type": "markdown",
   "metadata": {
    "id": "Cyq7Sd9PBaby"
   },
   "source": [
    "Did your aircraft just completely leave the runway? That's okay! Remember that we didn't specify a working controller yet (we just put zeros for everything). Let's plot the results and then see how we can tune our controller to fix this."
   ]
  },
  {
   "cell_type": "markdown",
   "metadata": {
    "id": "N6a6I6uWBabz"
   },
   "source": [
    "### Plot the results\n",
    "\n",
    "Sometime, it is helpful to visualize the trajectory that the aircraft followed. We can use this to see if the aircraft is behaving how we expect it to. Also, we can use it to show others how our system performs (like in your final presentation!). The following two cells contain code for you to do this. The first cell imports some python plotting packages that you will use. The second cell plots the trajectory on the road. We have implemented a function for you to get a plot of the road in the `plotting_helper.py` file."
   ]
  },
  {
   "cell_type": "code",
   "execution_count": 27,
   "metadata": {
    "id": "tWXN2UisBab0"
   },
   "outputs": [],
   "source": [
    "import matplotlib.pyplot as plt\n",
    "from matplotlib.path import Path\n",
    "import matplotlib.patches as patches"
   ]
  },
  {
   "cell_type": "code",
   "execution_count": 28,
   "metadata": {
    "id": "obK1NX84Bab1"
   },
   "outputs": [
    {
     "data": {
      "image/png": "[encoded data removed]",
      "text/plain": [
       "<Figure size 720x144 with 1 Axes>"
      ]
     },
     "metadata": {
      "needs_background": "light"
     },
     "output_type": "display_data"
    }
   ],
   "source": [
    "# Get the plot of the road\n",
    "fig, ax = plot_road()\n",
    "# Plot the trajectory on the road\n",
    "ax.plot(dtp_history - START_DTP, cte_history, 'b', linewidth=1)\n",
    "# Add axis labels\n",
    "ax.set_xlabel('Downtrack Position (m)')\n",
    "ax.set_ylabel('Crosstrack Error (m)')\n",
    "# Display the plot\n",
    "plt.show()"
   ]
  },
  {
   "cell_type": "markdown",
   "metadata": {
    "id": "hcf1k-hhBab2"
   },
   "source": [
    "## Tune the controller\n",
    "\n",
    "Of course, we don't want our aircraft to drive off the runway, but not to worry. With a little tuning of our control gains, we can fix this! Run the cell below to bring up an interactive plot for tuning the control gains. Slide the `CTE Gain` and `HE Gain` values until you are satisifed with the trajectories your controller produces. You can change the starting crosstrack error to test if your gains work in different scenarios."
   ]
  },
  {
   "cell_type": "code",
   "execution_count": 31,
   "metadata": {
    "id": "ivc-vJzyBab2"
   },
   "outputs": [
    {
     "data": {
      "application/vnd.jupyter.widget-view+json": {
       "model_id": "508e13ef1a664eecbec23bc9bae94430",
       "version_major": 2,
       "version_minor": 0
      },
      "text/plain": [
       "interactive(children=(IntSlider(value=0, description='Start CTE', max=10, min=-10), FloatSlider(value=0.0, des…"
      ]
     },
     "metadata": {},
     "output_type": "display_data"
    },
    {
     "data": {
      "text/plain": [
       "<function __main__.control_interact_func(startCTE, cteGain, heGain)>"
      ]
     },
     "execution_count": 31,
     "metadata": {},
     "output_type": "execute_result"
    }
   ],
   "source": [
    "def control_interact_func(startCTE, cteGain, heGain):\n",
    "    # Define the control function based on the gains\n",
    "    def getControlTuning(client, cte, he):\n",
    "        return cteGain * cte + heGain * he\n",
    "\n",
    "    # Simulate the controller\n",
    "    cte_history, he_history, dtp_history = simulate_controller(client, startCTE, 0.0, 322.0,          getState, getControlTuning)\n",
    "\n",
    "    # Plot the result\n",
    "    fig, ax = plot_road()\n",
    "    # Plot the trajectory on the road\n",
    "    ax.plot(dtp_history - START_DTP, cte_history, 'b', linewidth=1)\n",
    "    # Add axis labels\n",
    "    ax.set_xlabel('Downtrack Position (m)')\n",
    "    ax.set_ylabel('Crosstrack Error (m)')\n",
    "    # Display the plot\n",
    "    plt.show()\n",
    "\n",
    "startCteSlider = widgets.IntSlider(min = -10.0, max = 10.0, step = 1, description = 'Start CTE')\n",
    "cteGainSlider = widgets.FloatSlider(min = -2.0, max = 2.0, step = 0.01, description = 'CTE Gain')\n",
    "heGainSlider = widgets.FloatSlider(min = -2.0, max = 2.0, step = 0.01, description = 'HE Gain')\n",
    "\n",
    "interact(control_interact_func, startCTE = startCteSlider, cteGain = cteGainSlider, heGain = heGainSlider)"
   ]
  },
  {
   "cell_type": "markdown",
   "metadata": {
    "id": "kW6--jizBab3"
   },
   "source": [
    "### Put in your new control gains\n",
    "\n",
    "Let's redo the function below with the control gains you found!"
   ]
  },
  {
   "cell_type": "code",
   "execution_count": 32,
   "metadata": {
    "id": "Ur7uxEtXBab4"
   },
   "outputs": [],
   "source": [
    "def getControl(client, cte, he):\n",
    "    \"\"\" Returns steering angle command using proportional control\n",
    "        Args:\n",
    "            client: XPlane Client\n",
    "            cte: current estimate of the crosstrack error, x (meters)\n",
    "            he: current estimate of the heading error, theta (degrees)\n",
    "    \"\"\"\n",
    "    # STUDENT CODE START\n",
    "    cte_gain = -1.03\n",
    "    he_gain = -0.56\n",
    "    phi = cte_gain*cte + he_gain*he\n",
    "    return phi\n",
    "    # STUDENT CODE END"
   ]
  },
  {
   "cell_type": "markdown",
   "metadata": {
    "id": "7LscMPxwBab5"
   },
   "source": [
    "### Run a single simulation\n",
    "The line below will run a single simulation (with X-Plane 11) and store the results in arrays called `cte_history`, `he_history`, and `dtp_history`. Run this cell now to watch your controller in action! It will pause for 5 seconds and then run for 20 seconds."
   ]
  },
  {
   "cell_type": "code",
   "execution_count": 33,
   "metadata": {
    "id": "uqUZCbrnBab6"
   },
   "outputs": [],
   "source": [
    "cte_history, he_history, dtp_history = simulate_controller(client, 6.0, 10.0, START_DTP, getState, getControl, useXPlane = False)"
   ]
  },
  {
   "cell_type": "markdown",
   "metadata": {
    "id": "Pf6BPvEoBab7"
   },
   "source": [
    "### Plot the results"
   ]
  },
  {
   "cell_type": "code",
   "execution_count": 34,
   "metadata": {
    "id": "tTsv2fy1Bab8"
   },
   "outputs": [
    {
     "data": {
      "image/png": "[encoded data removed]",
      "text/plain": [
       "<Figure size 720x144 with 1 Axes>"
      ]
     },
     "metadata": {
      "needs_background": "light"
     },
     "output_type": "display_data"
    }
   ],
   "source": [
    "# Get the plot of the road\n",
    "fig, ax = plot_road()\n",
    "# Plot the trajectory on the road\n",
    "ax.plot(dtp_history - START_DTP, cte_history, 'b', linewidth=1)\n",
    "# Add axis labels\n",
    "ax.set_xlabel('Downtrack Position (m)')\n",
    "ax.set_ylabel('Crosstrack Error (m)')\n",
    "# Display the plot\n",
    "plt.show()"
   ]
  },
  {
   "cell_type": "markdown",
   "metadata": {
    "id": "Wo1Lsn84Bab9"
   },
   "source": [
    "Everything should look much better now!"
   ]
  },
  {
   "cell_type": "markdown",
   "metadata": {
    "id": "Q37OBdjLBab-"
   },
   "source": [
    "### Run many simulations\n",
    "\n",
    "Now that we have confirmed that our controller is working as intended for one scenario, let's test out some other scenarios. It is important that we make sure our controller will work in many different scenarios. To test this, your next task is to write some code to find the trajectory of the aircraft from a number of starting crosstrack errors by filling in the code cells below."
   ]
  },
  {
   "cell_type": "markdown",
   "metadata": {
    "id": "KvcmyJRBBab-"
   },
   "source": [
    "First, let's initialize some lists to store our outputs:"
   ]
  },
  {
   "cell_type": "code",
   "execution_count": 39,
   "metadata": {
    "id": "8FccjQ18Bab_"
   },
   "outputs": [],
   "source": [
    "cte_histories = []\n",
    "he_histories = []\n",
    "dtp_histories = []"
   ]
  },
  {
   "cell_type": "markdown",
   "metadata": {
    "id": "NJRYMnhrBacA"
   },
   "source": [
    "Next, let's call our simulation function from a number of ctes and append the resuts to our lists:"
   ]
  },
  {
   "cell_type": "code",
   "execution_count": 40,
   "metadata": {
    "id": "_M_7SS1uBacB"
   },
   "outputs": [],
   "source": [
    "start_ctes = [-8.0, -6.0, -4.0, -2.0, 0.0, 2.0, 4.0, 6.0, 8.0]\n",
    "\n",
    "for start_cte in start_ctes:\n",
    "    # STUDENT CODE START\n",
    "    # Simulate the trajectory and get the results\n",
    "    # FILL IN!\n",
    "    cte_history, he_history, dtp_history = simulate_controller(client,start_cte,10.0, START_DTP, getState, getControl, useXPlane = False)\n",
    "    # Append to the lists\n",
    "    # FILL IN!\n",
    "    cte_histories.append(cte_history)\n",
    "    he_histories.append(he_history)\n",
    "    dtp_histories.append(dtp_history)\n",
    "    # STUDENT CODE END"
   ]
  },
  {
   "cell_type": "markdown",
   "metadata": {
    "id": "ibyK7VOPBacD"
   },
   "source": [
    "Finally, let's plot the results! Our goal is to generate a plot similar to the one above for the single trajectory but with all of the trajectories we tested on it. You can use similar code to the plotting code used for the single trajectory. For this case, instead of adding a single trajectory, you will want to loop through the histories and add each trajectory to the plot."
   ]
  },
  {
   "cell_type": "code",
   "execution_count": 43,
   "metadata": {
    "id": "5g9wmb3iBacD"
   },
   "outputs": [
    {
     "data": {
      "image/png": "[encoded data removed]",
      "text/plain": [
       "<Figure size 720x144 with 1 Axes>"
      ]
     },
     "metadata": {
      "needs_background": "light"
     },
     "output_type": "display_data"
    }
   ],
   "source": [
    "# STUDENT CODE START\n",
    "# Get the plot of the road\n",
    "# FILL IN!\n",
    "fig, ax = plot_road()\n",
    "# Plot the trajectory on the road\n",
    "for dtp_history, cte_history in zip(dtp_histories, cte_histories):\n",
    "    # FILL IN!\n",
    "    ax.plot(dtp_history - START_DTP, cte_history, 'b', linewidth=1)\n",
    "# Add axis labels\n",
    "# FILL IN!\n",
    "ax.set_xlabel('Downtrack Position (m)')\n",
    "ax.set_ylabel('Crosstrack Error (m)')\n",
    "# Display the plot\n",
    "plt.show()\n",
    "# STUDENT CODE END"
   ]
  },
  {
   "cell_type": "code",
   "execution_count": null,
   "metadata": {},
   "outputs": [],
   "source": []
  }
 ],
 "metadata": {
  "colab": {
   "name": "TaxiController.ipynb",
   "provenance": []
  },
  "interpreter": {
   "hash": "36cf16204b8548560b1c020c4e8fb5b57f0e4c58016f52f2d4be01e192833930"
  },
  "kernelspec": {
   "display_name": "Python 3 (ipykernel)",
   "language": "python",
   "name": "python3"
  },
  "language_info": {
   "codemirror_mode": {
    "name": "ipython",
    "version": 3
   },
   "file_extension": ".py",
   "mimetype": "text/x-python",
   "name": "python",
   "nbconvert_exporter": "python",
   "pygments_lexer": "ipython3",
   "version": "3.9.12"
  }
 },
 "nbformat": 4,
 "nbformat_minor": 4
}
